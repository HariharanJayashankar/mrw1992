{
 "cells": [
  {
   "cell_type": "code",
   "execution_count": 1,
   "metadata": {},
   "outputs": [],
   "source": [
    "import numpy as np\n",
    "import pandas as pd\n",
    "import statsmodels.api as sm\n",
    "from statsmodels.iolib.summary2 import summary_col\n",
    "import os"
   ]
  },
  {
   "cell_type": "code",
   "execution_count": 3,
   "metadata": {},
   "outputs": [],
   "source": [
    "os.chdir(\"C:\\\\Users\\\\Administrator\\\\Documents\\\\personal\\\\mrw1992\\\\mrw1992\")"
   ]
  },
  {
   "cell_type": "code",
   "execution_count": 4,
   "metadata": {},
   "outputs": [],
   "source": [
    "data = pd.read_csv(\"data/mrw.csv\")"
   ]
  },
  {
   "cell_type": "markdown",
   "metadata": {},
   "source": [
    "#### Reformatting the data"
   ]
  },
  {
   "cell_type": "code",
   "execution_count": 5,
   "metadata": {},
   "outputs": [],
   "source": [
    "#convenience stuff\n",
    "data = data.drop(data.columns[0], axis = 1)\n",
    "data = data.set_index('country')\n",
    "\n",
    "#creating desired variables\n",
    "data['lngd'] = np.log(data['popgrowth']/100 + 0.05)\n",
    "data['ls'] = np.log(data['i_y']/100)\n",
    "data['const'] = 1\n",
    "data['ls_lngd'] = data['ls'] - data['lngd']"
   ]
  },
  {
   "cell_type": "markdown",
   "metadata": {},
   "source": [
    "# Estimating the Equations\n",
    "\n",
    "We estimate this equation first\n",
    "\n",
    "\\begin{align}\n",
    "log(Y/L) = a + (\\alpha/(1 - \\alpha))log(s) - (\\alpha/(1 - \\alpha))log(n + g + \\delta) + \\epsilon\n",
    "\\end{align}\n",
    "\n",
    "where:\n",
    "a is the constant in the assumed $log(A)$ equation  \n",
    "$\\epsilon$ is the country shock for $log(a)$  \n",
    "$\\alpha$ is the share of capital  \n",
    "s is the exogenous savings rate (measured with average share of investment in GDP)  \n",
    "n is the exogenous population growth rate  \n",
    "g is the exogenous tfp growth rate  \n",
    "$\\delta$ is the depriciation rate of capital  \n",
    "\n",
    "This corresponds to equation 7 in the paper"
   ]
  },
  {
   "cell_type": "code",
   "execution_count": 7,
   "metadata": {},
   "outputs": [],
   "source": [
    "#subsetting data\n",
    "data_reg = data.loc[data['n'] == 1, :] #no oil\n",
    "data_d = data_reg[data_reg.i == 1] #pop in 1960 less than 1 mil\n",
    "data_oecd = data_reg[data_reg.o == 1] #oecd"
   ]
  },
  {
   "cell_type": "markdown",
   "metadata": {},
   "source": [
    "Unrestricted Model"
   ]
  },
  {
   "cell_type": "code",
   "execution_count": 8,
   "metadata": {},
   "outputs": [],
   "source": [
    "#no restrictions on coefficients here\n",
    "reg1 = sm.OLS(endog = np.log(data_reg['rgdpw85']),\n",
    "             exog = data_reg[['const', 'ls', 'lngd']],\n",
    "             missing = 'drop').fit()\n",
    "\n",
    "reg2 = sm.OLS(endog = np.log(data_d['rgdpw85']),\n",
    "             exog = data_d[['const', 'ls', 'lngd']],\n",
    "             missing = 'drop').fit()\n",
    "\n",
    "reg3 = sm.OLS(endog = np.log(data_oecd['rgdpw85']),\n",
    "             exog = data_oecd[['const', 'ls', 'lngd']],\n",
    "             missing = 'drop').fit()"
   ]
  },
  {
   "cell_type": "markdown",
   "metadata": {},
   "source": [
    "Restricted Model"
   ]
  },
  {
   "cell_type": "code",
   "execution_count": 9,
   "metadata": {},
   "outputs": [],
   "source": [
    "#coeff(log(savings)) = -coeff(log(n+g+d))\n",
    "regr1 = sm.OLS(endog = np.log(data_reg['rgdpw85']),\n",
    "             exog = data_reg[['const', 'ls_lngd']],\n",
    "             missing = 'drop').fit()\n",
    "\n",
    "regr2 = sm.OLS(endog = np.log(data_d['rgdpw85']),\n",
    "             exog = data_d[['const', 'ls_lngd']],\n",
    "             missing = 'drop').fit()\n",
    "\n",
    "regr3 = sm.OLS(endog = np.log(data_oecd['rgdpw85']),\n",
    "             exog = data_oecd[['const', 'ls_lngd']],\n",
    "             missing = 'drop').fit()"
   ]
  },
  {
   "cell_type": "markdown",
   "metadata": {},
   "source": [
    "Making table 1"
   ]
  },
  {
   "cell_type": "code",
   "execution_count": 10,
   "metadata": {},
   "outputs": [
    {
     "name": "stdout",
     "output_type": "stream",
     "text": [
      "       Unrestricted Regressions\n",
      "=======================================\n",
      "          Non-Oil  Intermediate   OECD \n",
      "---------------------------------------\n",
      "const     5.43***  5.35***      8.02***\n",
      "          (1.58)   (1.54)       (2.52) \n",
      "ls        1.42***  1.32***      0.50   \n",
      "          (0.14)   (0.17)       (0.43) \n",
      "lngd      -1.99*** -2.02***     -0.74  \n",
      "          (0.56)   (0.53)       (0.85) \n",
      "R^2       0.6009   0.5989       0.1059 \n",
      "N         98.0000  75.0000      22.0000\n",
      "s.e.e.    0.6891   0.6106       0.3774 \n",
      "Implied α 0.59     0.57         0.33   \n",
      "=======================================\n",
      "Standard errors in parentheses.\n",
      "* p<.1, ** p<.05, ***p<.01\n",
      "\n",
      "        Restricted Regressions\n",
      "======================================\n",
      "          Non-Oil Intermediate   OECD \n",
      "--------------------------------------\n",
      "const     6.87*** 7.09***      8.62***\n",
      "          (0.12)  (0.15)       (0.53) \n",
      "ls_lngd   1.49*** 1.43***      0.55   \n",
      "          (0.12)  (0.14)       (0.37) \n",
      "R^2       0.5974  0.5917       0.1031 \n",
      "N         98.0000 75.0000      22.0000\n",
      "s.e.e.    0.6885  0.6119       0.3684 \n",
      "Implied α 0.60    0.59         0.36   \n",
      "======================================\n",
      "Standard errors in parentheses.\n",
      "* p<.1, ** p<.05, ***p<.01\n"
     ]
    }
   ],
   "source": [
    "info_dict = {'R^2': lambda x: x.rsquared,\n",
    "            'N': lambda x: x.nobs,\n",
    "            's.e.e.': lambda x: np.sqrt(x.scale),\n",
    "            'Implied α': lambda x: f\"{x.params[1]/(1 + x.params[1]):.2f}\"}\n",
    "\n",
    "results_unres = summary_col(results = [reg1, reg2, reg3],\n",
    "                           float_format='%0.2f',\n",
    "                           stars = True,\n",
    "                           model_names = ['Non-Oil',\n",
    "                                         'Intermediate',\n",
    "                                         'OECD'],\n",
    "                           info_dict = info_dict,\n",
    "                           regressor_order = ['const',\n",
    "                                             'ls',\n",
    "                                             'lngd'])\n",
    "\n",
    "\n",
    "results_res = summary_col(results = [regr1, regr2, regr3],\n",
    "                           float_format='%0.2f',\n",
    "                           stars = True,\n",
    "                           model_names = ['Non-Oil',\n",
    "                                         'Intermediate',\n",
    "                                         'OECD'],\n",
    "                           info_dict = info_dict,\n",
    "                           regressor_order = ['const',\n",
    "                                             'ls',\n",
    "                                             'lngd'])\n",
    "\n",
    "\n",
    "results_res.add_title('Restricted Regressions')\n",
    "results_unres.add_title('Unrestricted Regressions')\n",
    "print(results_unres)\n",
    "print('')\n",
    "print(results_res)"
   ]
  }
 ],
 "metadata": {
  "kernelspec": {
   "display_name": "Python 3",
   "language": "python",
   "name": "python3"
  },
  "language_info": {
   "codemirror_mode": {
    "name": "ipython",
    "version": 3
   },
   "file_extension": ".py",
   "mimetype": "text/x-python",
   "name": "python",
   "nbconvert_exporter": "python",
   "pygments_lexer": "ipython3",
   "version": "3.6.5"
  }
 },
 "nbformat": 4,
 "nbformat_minor": 2
}
