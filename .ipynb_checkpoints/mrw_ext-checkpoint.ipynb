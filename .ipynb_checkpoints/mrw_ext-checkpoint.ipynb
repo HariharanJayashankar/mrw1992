{
 "cells": [
  {
   "cell_type": "code",
   "execution_count": 1,
   "metadata": {},
   "outputs": [],
   "source": [
    "import numpy as np\n",
    "import pandas as pd\n",
    "from linearmodels import PanelOLS\n",
    "from statsmodels.iolib.summary2 import summary_col\n",
    "import matplotlib.pyplot as plt\n",
    "import os"
   ]
  },
  {
   "cell_type": "code",
   "execution_count": 2,
   "metadata": {},
   "outputs": [],
   "source": [
    "os.chdir(\"C:\\\\Users\\\\Administrator\\\\Documents\\\\personal\\\\mrw1992\")"
   ]
  },
  {
   "cell_type": "markdown",
   "metadata": {},
   "source": [
    "# Extending MRW\n",
    "\n",
    "We are going to try and do a panel version of MRW1992 and see if the results hold across a much larger dataset.\n",
    "\n",
    "We need a couple of core variables: gdp per capita, pop growth, investment/savings, some kind of human capital measure\n"
   ]
  },
  {
   "cell_type": "code",
   "execution_count": 3,
   "metadata": {},
   "outputs": [],
   "source": [
    "data = pd.read_excel('data/pwt90.xlsx', sheet_name = 'Data').iloc[:, [0, 1, 3, 4, 6, 7, 9, 14, 21, 24]]"
   ]
  },
  {
   "cell_type": "code",
   "execution_count": 4,
   "metadata": {},
   "outputs": [],
   "source": [
    "##Constructing variables\n",
    "#grouping by country\n",
    "data = data.sort_values(by = ['countrycode', 'year'])\n",
    "\n",
    "#creating variables of interest\n",
    "#gdp per worker\n",
    "data['rgdpew'] = data['rgdpe']/data['emp']\n",
    "data['const'] = 1\n",
    "\n",
    "#pop growth by country\n",
    "data['popgrowth'] = data.groupby('countrycode').pop.diff()/(data['pop'])\n",
    "\n",
    "#investment\n",
    "data['ck_1'] = data.groupby('countrycode').ck.shift(-1)\n",
    "data['investment'] = data['ck_1']- (data['const'] - data['delta'])*data['ck']\n",
    "data['i_y'] = data['investment']/data['rgdpe']\n",
    "\n",
    "#TFP\n",
    "data['g'] = data.groupby('countrycode').rtfpna.diff()/(data['rtfpna'])\n",
    "\n",
    "#dropping NaN's\n",
    "data.i_y = data.i_y.replace(0, np.nan)\n",
    "data = data.dropna(subset = ['popgrowth', 'g', 'delta', 'i_y'])"
   ]
  },
  {
   "cell_type": "markdown",
   "metadata": {},
   "source": [
    "And thus we have the required variables. We really make no assumptions for $\\delta + g$ as MRW did. ##(insert assumptions of PWT calculations)##"
   ]
  },
  {
   "cell_type": "code",
   "execution_count": 5,
   "metadata": {},
   "outputs": [
    {
     "name": "stderr",
     "output_type": "stream",
     "text": [
      "C:\\ProgramData\\Anaconda3\\lib\\site-packages\\ipykernel_launcher.py:4: RuntimeWarning: invalid value encountered in log\n",
      "  after removing the cwd from sys.path.\n",
      "C:\\ProgramData\\Anaconda3\\lib\\site-packages\\ipykernel_launcher.py:5: RuntimeWarning: invalid value encountered in log\n",
      "  \"\"\"\n"
     ]
    }
   ],
   "source": [
    "#Constructing Logs\n",
    "data['ly'] = np.log(data['rgdpe'])\n",
    "data['lschool'] = np.log(data['hc'])\n",
    "data['ls'] = np.log(data['i_y']) #unable to take log\n",
    "data['lngd'] = np.log((data['popgrowth'] + data['g'] + data['delta']).replace(0, np.nan)) #unable to take log\n",
    "data['ls_lngd'] = data['ls']\n",
    "data['lsch_lngd'] = data['lschool'] - data['lngd']\n",
    "data['t'] = data['year'] - data.groupby('countrycode')['year'].transform('first')\n",
    "data['gt'] = data['g'] * data['t']"
   ]
  },
  {
   "cell_type": "code",
   "execution_count": 6,
   "metadata": {},
   "outputs": [],
   "source": [
    "data.to_csv('data/panel_mrw.csv')"
   ]
  }
 ],
 "metadata": {
  "kernelspec": {
   "display_name": "Python 3",
   "language": "python",
   "name": "python3"
  },
  "language_info": {
   "codemirror_mode": {
    "name": "ipython",
    "version": 3
   },
   "file_extension": ".py",
   "mimetype": "text/x-python",
   "name": "python",
   "nbconvert_exporter": "python",
   "pygments_lexer": "ipython3",
   "version": "3.6.5"
  }
 },
 "nbformat": 4,
 "nbformat_minor": 2
}
