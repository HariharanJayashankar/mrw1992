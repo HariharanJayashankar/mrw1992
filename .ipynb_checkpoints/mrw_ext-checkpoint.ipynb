{
 "cells": [
  {
   "cell_type": "code",
   "execution_count": 1,
   "metadata": {},
   "outputs": [],
   "source": [
    "import numpy as np\n",
    "import pandas as pd\n",
    "import statsmodels.api as sm\n",
    "from statsmodels.iolib.summary2 import summary_col\n",
    "import matplotlib.pyplot as plt\n",
    "import os"
   ]
  },
  {
   "cell_type": "code",
   "execution_count": 2,
   "metadata": {},
   "outputs": [],
   "source": [
    "os.chdir(\"C:\\\\Users\\\\Hariharan\\\\Documents\\\\replications\\\\mrw1992\")"
   ]
  },
  {
   "cell_type": "markdown",
   "metadata": {},
   "source": [
    "# Extending MRW\n",
    "\n",
    "We are going to try and do a panel version of MRW1992 and see if the results hold across a much larger dataset.\n",
    "\n",
    "We need a couple of core variables: gdp per capita, pop growth, investment/savings, some kind of human capital measure\n"
   ]
  },
  {
   "cell_type": "code",
   "execution_count": 36,
   "metadata": {},
   "outputs": [],
   "source": [
    "data = pd.read_excel('data/pwt90.xlsx', sheet_name = 'Data').iloc[:, [0, 1, 3, 4, 5, 6, 7, 9, 14]]"
   ]
  },
  {
   "cell_type": "code",
   "execution_count": 40,
   "metadata": {},
   "outputs": [],
   "source": [
    "#creating variables of interest\n",
    "#gdp per worker\n",
    "data['rgdpew'] = data['rgdpe']/data['emp']\n",
    "\n",
    "#pop growth by country\n",
    "data = data.loc[pd.notnull(data['pop']), :]\n",
    "data['popchange'] = data.groupby('countrycode').pop.pct_change()\n",
    "data = data.loc[pd.notnull(data['popchange']), :]\n",
    "data['popgrowth'] = data.groupby('countrycode').popchange.transform('mean')\n",
    "\n",
    "#investment\n",
    "data['investment'] = data.groupby('countrycode').ck.pct_change() #this is incorrect. The formula should be I_t = K_(t+1) - (1 - d)K_t. Have to include depri \n",
    "data['i_y'] = data['investment']/data['rgdpe']"
   ]
  },
  {
   "cell_type": "code",
   "execution_count": null,
   "metadata": {},
   "outputs": [],
   "source": []
  }
 ],
 "metadata": {
  "kernelspec": {
   "display_name": "Python 3",
   "language": "python",
   "name": "python3"
  },
  "language_info": {
   "codemirror_mode": {
    "name": "ipython",
    "version": 3
   },
   "file_extension": ".py",
   "mimetype": "text/x-python",
   "name": "python",
   "nbconvert_exporter": "python",
   "pygments_lexer": "ipython3",
   "version": "3.6.5"
  }
 },
 "nbformat": 4,
 "nbformat_minor": 2
}
